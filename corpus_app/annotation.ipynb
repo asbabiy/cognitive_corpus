{
 "cells": [
  {
   "cell_type": "code",
   "execution_count": 79,
   "id": "848da368-e30e-4f32-83a2-462ca8a01f3e",
   "metadata": {},
   "outputs": [],
   "source": [
    "import spacy\n",
    "from tqdm import tqdm\n",
    "\n",
    "from pathlib import Path\n",
    "import re"
   ]
  },
  {
   "cell_type": "code",
   "execution_count": 2,
   "id": "0af6af78-04e6-48e4-9540-95e6c4b14155",
   "metadata": {},
   "outputs": [
    {
     "name": "stdout",
     "output_type": "stream",
     "text": [
      "/Users/asbabiy/Documents/study/fcm\n"
     ]
    }
   ],
   "source": [
    "!pwd"
   ]
  },
  {
   "cell_type": "code",
   "execution_count": 3,
   "id": "da69e560-64c1-4a77-8f61-af8f9da6b90b",
   "metadata": {},
   "outputs": [],
   "source": [
    "# !python -m spacy download ru_core_news_lg"
   ]
  },
  {
   "cell_type": "code",
   "execution_count": 96,
   "id": "5a8c7a72-f66a-4eae-a5a3-bb94420092c9",
   "metadata": {},
   "outputs": [
    {
     "data": {
      "text/plain": [
       "['parser', 'attribute_ruler', 'ner']"
      ]
     },
     "execution_count": 96,
     "metadata": {},
     "output_type": "execute_result"
    }
   ],
   "source": [
    "nlp = spacy.load(\"ru_core_news_lg\")\n",
    "nlp.select_pipes(enable=[\"tok2vec\", \"morphologizer\", \"lemmatizer\"])"
   ]
  },
  {
   "cell_type": "code",
   "execution_count": 100,
   "id": "00cdc06c-113c-4720-8cbd-d7dd80d817c3",
   "metadata": {},
   "outputs": [],
   "source": [
    "def get_ud(token):\n",
    "    morph_feats = \",\".join(token.morph.to_dict().values())\n",
    "    return f\"{token.lemma_}<{token.pos_},{morph_feats}>\""
   ]
  },
  {
   "cell_type": "code",
   "execution_count": 101,
   "id": "8c4e14c8-c209-458d-8139-f0c0f5de1bc9",
   "metadata": {},
   "outputs": [],
   "source": [
    "def process_text(text):\n",
    "    \"\"\"\n",
    "    Process text\n",
    "    \"\"\"\n",
    "    \n",
    "    text = re.sub(\"\\s+\", \" \", text)\n",
    "    text = text.replace('-\\n', '')\n",
    "    \n",
    "    doc = nlp(text)\n",
    "    tokens = [get_ud(token) for token in doc if token.morph and \"Foreign=Yes\" not in token.morph]\n",
    "    \n",
    "    return \" \".join(tokens)"
   ]
  },
  {
   "cell_type": "code",
   "execution_count": 102,
   "id": "48e7bcdb-7c6f-4f84-bd16-42248d200fce",
   "metadata": {},
   "outputs": [
    {
     "name": "stdout",
     "output_type": "stream",
     "text": [
      "CORPUS LENGTH: 3706\n"
     ]
    },
    {
     "name": "stderr",
     "output_type": "stream",
     "text": [
      "Processing: 100%|██████████████████████████████████████████████████████████████████████████████████████████████████████████████████████████████████████████████████████| 3706/3706 [19:39<00:00,  3.14it/s]\n"
     ]
    }
   ],
   "source": [
    "corpus_path = Path(\"voc\")\n",
    "corpus_len = len(tuple(corpus_path.glob(\"**/*_raw.txt\")))\n",
    "\n",
    "print(\"CORPUS LENGTH:\", corpus_len)\n",
    "\n",
    "for raw_path in tqdm(corpus_path.glob(\"**/*_raw.txt\"), total=corpus_len, desc=\"Processing\"):\n",
    "    ud_path = Path(re.sub(\"_raw\", \"_ud\", raw_path.as_posix()))\n",
    "    \n",
    "    with open(raw_path) as raw_file:\n",
    "        text = raw_file.read()\n",
    "        processed_text = process_text(text)\n",
    "    \n",
    "    with open(ud_path, \"w\") as ud_file:\n",
    "        ud_file.write(processed_text)"
   ]
  },
  {
   "cell_type": "markdown",
   "id": "2e81be2b-6b05-445e-906b-479d90cf0305",
   "metadata": {},
   "source": [
    "## Interface preproc"
   ]
  },
  {
   "cell_type": "code",
   "execution_count": 242,
   "id": "39e333ff-5cbb-4e17-85d3-be4b1f4206b2",
   "metadata": {},
   "outputs": [],
   "source": [
    "import spacy\n",
    "import json\n",
    "import re\n",
    "from itertools import chain\n",
    "from tqdm.notebook import tqdm\n",
    "import pandas as pd\n",
    "from pathlib import Path\n",
    "from spacy.tokens import Doc, DocBin\n",
    "from spacy import Language\n",
    "from spacy.matcher import Matcher, PhraseMatcher"
   ]
  },
  {
   "cell_type": "code",
   "execution_count": 10,
   "id": "e93e88c7-67f6-444e-8707-f62397080441",
   "metadata": {},
   "outputs": [],
   "source": [
    "# !python -m spacy download ru_core_news_sm"
   ]
  },
  {
   "cell_type": "code",
   "execution_count": 17,
   "id": "49a98a51-d76c-4ee2-8960-e52522004a64",
   "metadata": {},
   "outputs": [
    {
     "data": {
      "text/plain": [
       "<spacy.pipeline.sentencizer.Sentencizer at 0x16b759e80>"
      ]
     },
     "execution_count": 17,
     "metadata": {},
     "output_type": "execute_result"
    }
   ],
   "source": [
    "nlp = spacy.load(\"ru_core_news_sm\", exclude=[\"ner\", \"parser\", \"senter\"])\n",
    "nlp.add_pipe(\"sentencizer\")"
   ]
  },
  {
   "cell_type": "code",
   "execution_count": 1,
   "id": "4859b08b-f2e0-4208-b278-0f3905d31b9c",
   "metadata": {},
   "outputs": [],
   "source": [
    "# ---------------------------------------------------------------------"
   ]
  },
  {
   "cell_type": "code",
   "execution_count": 303,
   "id": "d7bae43f-2a87-4bfc-a978-3ac1f3067c49",
   "metadata": {},
   "outputs": [
    {
     "name": "stdout",
     "output_type": "stream",
     "text": [
      "CORPUS LENGTH: 3706\n"
     ]
    },
    {
     "data": {
      "application/vnd.jupyter.widget-view+json": {
       "model_id": "ef8304b3deac45579944c7d4b0051bec",
       "version_major": 2,
       "version_minor": 0
      },
      "text/plain": [
       "Processing:   0%|          | 0/250 [00:00<?, ?it/s]"
      ]
     },
     "metadata": {},
     "output_type": "display_data"
    }
   ],
   "source": [
    "doc_bin = DocBin(store_user_data=True)\n",
    "\n",
    "corpus_path = Path(\"voc\")\n",
    "corpus_len = len(tuple(corpus_path.glob(\"**/*_raw.txt\")))\n",
    "\n",
    "print(\"CORPUS LENGTH:\", corpus_len)\n",
    "\n",
    "# for raw_path in tqdm(list(corpus_path.glob(\"**/*_raw.txt\"))[:250], total=250, desc=\"Processing\"):\n",
    "for raw_path in tqdm(list(corpus_path.glob(\"**/*_raw.txt\")), total=corpus_len, desc=\"Processing\"):\n",
    "    meta_path = Path(re.sub(\"_raw.txt\", \"_meta.json\", raw_path.as_posix()))\n",
    "    \n",
    "    with open(meta_path) as meta_file:\n",
    "        meta = json.load(meta_file)\n",
    "        \n",
    "        meta_data = dict()\n",
    "        meta_data[\"source\"] = meta_path.parent.name\n",
    "        meta_data[\"url\"] = meta.get(\"url\", \"NOT FOUND\")\n",
    "        meta_data[\"title\"] = meta.get(\"title\", \"NOT FOUND\")\n",
    "        meta_data[\"date\"] = meta.get(\"date\", \"NOT FOUND\")\n",
    "        meta_data[\"author\"] = meta.get(\"author\", \"NOT FOUND\")\n",
    "    \n",
    "    with open(raw_path) as raw_file:\n",
    "        text = raw_file.read()\n",
    "        doc = nlp(text)\n",
    "        doc.user_data = meta_data\n",
    "    \n",
    "    doc_bin.add(doc)"
   ]
  },
  {
   "cell_type": "code",
   "execution_count": 299,
   "id": "e0a8bd26-53d4-45e2-9c0d-7f1ff1ec9cac",
   "metadata": {},
   "outputs": [
    {
     "data": {
      "text/plain": [
       "<spacy.tokens._serialize.DocBin at 0x17b1a8dc0>"
      ]
     },
     "execution_count": 299,
     "metadata": {},
     "output_type": "execute_result"
    }
   ],
   "source": [
    "doc_bin"
   ]
  },
  {
   "cell_type": "code",
   "execution_count": 51,
   "id": "0f1e4d7f-5710-43f7-acda-86629f24c60c",
   "metadata": {},
   "outputs": [
    {
     "name": "stdout",
     "output_type": "stream",
     "text": [
      "/Users/asbabiy/Documents/study/fcm\n"
     ]
    }
   ],
   "source": [
    "!pwd"
   ]
  },
  {
   "cell_type": "code",
   "execution_count": 53,
   "id": "ab9eb177-9d01-48c1-90fa-c90aec40d93f",
   "metadata": {},
   "outputs": [],
   "source": [
    "nlp.to_disk(\"model\")"
   ]
  },
  {
   "cell_type": "code",
   "execution_count": 305,
   "id": "503c315b-8d5d-4c7e-b073-555e18189804",
   "metadata": {},
   "outputs": [],
   "source": [
    "doc_bin.to_disk(\"corpora/corpus.spacy\")"
   ]
  },
  {
   "cell_type": "code",
   "execution_count": null,
   "id": "14fa33f5-2106-4c0e-9a22-337ba4ddeca2",
   "metadata": {},
   "outputs": [],
   "source": [
    "# ---------------------------------------------------------------------"
   ]
  }
 ],
 "metadata": {
  "kernelspec": {
   "display_name": "Python 3 (ipykernel)",
   "language": "python",
   "name": "python3"
  },
  "language_info": {
   "codemirror_mode": {
    "name": "ipython",
    "version": 3
   },
   "file_extension": ".py",
   "mimetype": "text/x-python",
   "name": "python",
   "nbconvert_exporter": "python",
   "pygments_lexer": "ipython3",
   "version": "3.10.4"
  }
 },
 "nbformat": 4,
 "nbformat_minor": 5
}
